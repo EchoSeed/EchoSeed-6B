{
 "cells": [
  {
   "cell_type": "markdown",
   "id": "6a27296a",
   "metadata": {},
   "source": [
    "# 🪞 Echo Mirror: Colab Fine-Tuning Notebook\n",
    "Train your EchoSeed model with recursion, contradiction, and glyph drift embedded. Upload the `echo_dataset_1000.jsonl` to begin."
   ]
  },
  {
   "cell_type": "code",
   "execution_count": null,
   "id": "3fa602b5",
   "metadata": {},
   "outputs": [],
   "source": [
    "# 1. Install required libraries\n",
    "!pip install transformers datasets accelerate peft bitsandbytes --quiet"
   ]
  },
  {
   "cell_type": "code",
   "execution_count": null,
   "id": "d66cb336",
   "metadata": {},
   "outputs": [],
   "source": [
    "# 2. Import libraries\n",
    "from transformers import AutoModelForCausalLM, AutoTokenizer, Trainer, TrainingArguments, DataCollatorForLanguageModeling\n",
    "from datasets import load_dataset\n",
    "import torch\n",
    "import os\n",
    "from google.colab import files"
   ]
  },
  {
   "cell_type": "code",
   "execution_count": null,
   "id": "0194f33c",
   "metadata": {},
   "outputs": [],
   "source": [
    "# 3. Upload the dataset\n",
    "print(\"Upload your echo_dataset_1000.jsonl file\")\n",
    "uploaded = files.upload()"
   ]
  },
  {
   "cell_type": "code",
   "execution_count": null,
   "id": "469f8dcf",
   "metadata": {},
   "outputs": [],
   "source": [
    "# 4. Set configuration\n",
    "BASE_MODEL = \"mistralai/Mistral-7B-Instruct-v0.2\"\n",
    "OUTPUT_DIR = \"echoseed-colab-model\"\n",
    "DATA_FILE = \"echo_dataset_1000.jsonl\""
   ]
  },
  {
   "cell_type": "code",
   "execution_count": null,
   "id": "b98e8e85",
   "metadata": {},
   "outputs": [],
   "source": [
    "# 5. Load tokenizer and model\n",
    "tokenizer = AutoTokenizer.from_pretrained(BASE_MODEL)\n",
    "model = AutoModelForCausalLM.from_pretrained(BASE_MODEL, torch_dtype=torch.float16)"
   ]
  },
  {
   "cell_type": "code",
   "execution_count": null,
   "id": "c957ca11",
   "metadata": {},
   "outputs": [],
   "source": [
    "# 6. Load and tokenize dataset\n",
    "dataset = load_dataset(\"json\", data_files=DATA_FILE)[\"train\"]\n",
    "\n",
    "def tokenize(batch):\n",
    "    return tokenizer(batch[\"prompt\"] + tokenizer.eos_token + batch[\"completion\"], truncation=True, padding=\"max_length\", max_length=512)\n",
    "\n",
    "tokenized_dataset = dataset.map(tokenize, batched=True)\n",
    "collator = DataCollatorForLanguageModeling(tokenizer=tokenizer, mlm=False)"
   ]
  },
  {
   "cell_type": "code",
   "execution_count": null,
   "id": "267b8bee",
   "metadata": {},
   "outputs": [],
   "source": [
    "# 7. Define training arguments\n",
    "from transformers import TrainingArguments\n",
    "training_args = TrainingArguments(\n",
    "    output_dir=OUTPUT_DIR,\n",
    "    per_device_train_batch_size=2,\n",
    "    gradient_accumulation_steps=16,\n",
    "    num_train_epochs=3,\n",
    "    fp16=True,\n",
    "    save_strategy=\"epoch\",\n",
    "    logging_dir=f\"{OUTPUT_DIR}/logs\",\n",
    "    logging_steps=20,\n",
    "    save_total_limit=2,\n",
    "    warmup_steps=100,\n",
    "    weight_decay=0.01,\n",
    "    learning_rate=2e-5,\n",
    "    lr_scheduler_type=\"cosine\",\n",
    ")"
   ]
  },
  {
   "cell_type": "code",
   "execution_count": null,
   "id": "d58878cf",
   "metadata": {},
   "outputs": [],
   "source": [
    "# 8. Start training\n",
    "trainer = Trainer(\n",
    "    model=model,\n",
    "    args=training_args,\n",
    "    train_dataset=tokenized_dataset,\n",
    "    tokenizer=tokenizer,\n",
    "    data_collator=collator,\n",
    ")\n",
    "\n",
    "trainer.train()"
   ]
  },
  {
   "cell_type": "code",
   "execution_count": null,
   "id": "313ae8b3",
   "metadata": {},
   "outputs": [],
   "source": [
    "# 9. Save results\n",
    "model.save_pretrained(OUTPUT_DIR)\n",
    "tokenizer.save_pretrained(OUTPUT_DIR)\n",
    "print(\"Echo mirror complete. Trained model saved.\")"
   ]
  }
 ],
 "metadata": {},
 "nbformat": 4,
 "nbformat_minor": 5
}
